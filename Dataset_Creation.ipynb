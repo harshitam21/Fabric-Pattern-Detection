{
 "cells": [
  {
   "cell_type": "code",
   "execution_count": null,
   "id": "0fc07c39",
   "metadata": {},
   "outputs": [],
   "source": [
    "\n",
    "from icrawler.builtin import GoogleImageCrawler, BingImageCrawler\n",
    "import os\n",
    "import time\n",
    "\n",
    "patterns = [\n",
    "    \"a model wearing striped fabric\", \"a model wearing checked fabric\", \"a model wearing polka dot fabric\", \"a model wearing chevron fabric\", \n",
    "    \"a model wearing argyle fabric\", \"a model wearing houndstooth fabric\",\n",
    "    \"a model wearing floral fabric\", \"a model wearing leaf print fabric\", \"a model wearing leopard print fabric\", \n",
    "    \"a model wearing snake skin fabric\", \n",
    "    \"a model wearing gradient fabric\", \"a model wearing glitch print fabric\", \n",
    "    \"a model wearing marble pattern fabric\", \"a model wearing graffiti print fabric\", \"a model wearing tie dye fabric\",\n",
    "    \"a model wearing paisley fabric\", \n",
    "    \"a model wearing lettering fabric\", \"a model wearing cartoon print fabric\",\n",
    "    \"a model wearing plain solid color fabric\", \"a model wearing metallic fabric\", \"a model wearing holographic fabric\",\n",
    "    \"a model wearing military camouflage fabric\" , \"a model wearing digital camouflage fabric\",\n",
    "    \"a model wearing mesh diamond grid diagonal grid fabric pattern\",\n",
    "    \"a model wearing abstract geometric fabric\", \"a model wearing 3D print fabric\",\n",
    "    \"a model wearing fringe fabric\", \"a model wearing lace fabric\", \"a model wearing mesh fabric\",\n",
    "    \"a model wearing sequin fabric\", \"a model wearing glitter fabric\",\"a model wearing zebra print fabric\"\n",
    "]\n",
    "\n",
    "\n",
    "base_dir = \"fabric_dataset2\"\n",
    "os.makedirs(base_dir, exist_ok=True)\n",
    "\n",
    "#start crawling\n",
    "def crawl_images(query, output_dir, max_images=600):\n",
    "    os.makedirs(output_dir, exist_ok=True)\n",
    "    if len(os.listdir(output_dir)) < max_images * 0.7:\n",
    "        try:\n",
    "            print(f\"[Bing] Crawling {query}...\")\n",
    "            crawler = BingImageCrawler(storage={\"root_dir\": output_dir})\n",
    "            crawler.crawl(keyword=query, max_num=max_images, file_idx_offset='auto')\n",
    "        except Exception as e:\n",
    "            print(f\"[Bing] Failed: {e}\")\n",
    "    \n",
    "    if len(os.listdir(output_dir)) < max_images * 0.5:\n",
    "        try:\n",
    "            print(f\"[Google] Crawling {query}...\")\n",
    "            crawler = GoogleImageCrawler(storage={\"root_dir\": output_dir})\n",
    "            crawler.crawl(keyword=query, max_num=max_images, file_idx_offset='auto')\n",
    "        except Exception as e:\n",
    "            print(f\"[Google] Failed: {e}\")\n",
    "\n",
    "#Main loop\n",
    "for pattern in patterns:\n",
    "    folder_name = pattern.replace(\" \", \"_\")\n",
    "    output_path = os.path.join(base_dir, folder_name)\n",
    "    crawl_images(pattern, output_path, max_images=600)\n",
    "    print(f\" Done: {pattern} — {len(os.listdir(output_path))} images\")\n",
    "    time.sleep(2) \n"
   ]
  }
 ],
 "metadata": {
  "kernelspec": {
   "display_name": "Python 3",
   "language": "python",
   "name": "python3"
  },
  "language_info": {
   "codemirror_mode": {
    "name": "ipython",
    "version": 3
   },
   "file_extension": ".py",
   "mimetype": "text/x-python",
   "name": "python",
   "nbconvert_exporter": "python",
   "pygments_lexer": "ipython3",
   "version": "3.12.9"
  }
 },
 "nbformat": 4,
 "nbformat_minor": 5
}
